{
 "cells": [
  {
   "cell_type": "markdown",
   "metadata": {
    "id": "rXOz9lHl_1Wx"
   },
   "source": [
    "# Project: Create a Chatbot from Movie Scripts data\n",
    "\n",
    "This notebook contains an implementation for a simple Chatbot model based on the [Cornell movies dataset](https://www.cs.cornell.edu/~cristian/Cornell_Movie-Dialogs_Corpus.html). My goal here is to use the dataset, which is fairly large, to fine-tune an already-existing Transformer model and see how it responds in conversational situations."
   ]
  },
  {
   "cell_type": "markdown",
   "metadata": {
    "id": "pfycBH4e_1W4"
   },
   "source": [
    "A short summary about this project:\n",
    "* I used as base the checkpoint for the [T5- Small](https://huggingface.co/google-t5/t5-small) model from Google, as it's general enough (trained on the [Colossal Clean Crawled Corpus](https://www.tensorflow.org/datasets/catalog/c4)), fairly small (only 60M parameters) and not so computationally expensive to fine-tune in a personal computer or virtual machine, provided it has a GPU.\n",
    "* I used `transformers` and other Hugging Face libraries as my go-to packages for all model and dataset handling operations.\n",
    "* As I was starting the project, I found a cool implementation from Matthew Inkawhich, in which he trained a transformer model from scratch using this dataset using PyTorch. You can check it out [here](https://brsoff.github.io/tutorials/beginner/chatbot_tutorial.html)."
   ]
  },
  {
   "cell_type": "code",
   "execution_count": null,
   "metadata": {
    "id": "F2NmGpmvIn5C"
   },
   "outputs": [],
   "source": [
    "#!pip install --upgrade transformers datasets"
   ]
  },
  {
   "cell_type": "markdown",
   "metadata": {
    "id": "CbNkKvjE_1W7"
   },
   "source": [
    "---\n",
    "\n",
    "## 1. Preprocessing the dataset\n",
    "\n",
    "For this part, I found the fastest option was to manually download the text files and then load them, although they can also be loaded from the `datasets` library. However, keep in mind that either way this is a very heavy dataset that will take some time to load and process."
   ]
  },
  {
   "cell_type": "markdown",
   "metadata": {
    "id": "iHxy_Pgm_1W8"
   },
   "source": [
    "The zip file with the raw data contains three distinct datasets, but in this case we're only interested in the `moviequotes.scripts.txt` file. Let's explore the file (after loading it to the local directory):"
   ]
  },
  {
   "cell_type": "code",
   "execution_count": null,
   "metadata": {
    "id": "Y37SRLfn_1W8",
    "outputId": "710e9b9a-9b86-4769-b26a-8007d89017d9"
   },
   "outputs": [
    {
     "name": "stdout",
     "output_type": "stream",
     "text": [
      "0 +++$+++ \"murderland\" +++$+++ 1 +++$+++ announcer +++$+++  +++$+++ Ladies and gentlemen, the official mascot of Murderland.... Scraps the Dog !\n",
      "\n",
      "1 +++$+++ \"murderland\" +++$+++ 2 +++$+++ announcer +++$+++  +++$+++ Choose the doorway that starts you on your magical journey into  MURDERLAND !\n",
      "\n",
      "2 +++$+++ \"murderland\" +++$+++ 3 +++$+++ johnny +++$+++  +++$+++ I didn't think he'd make it past Scraps.\n",
      "\n",
      "3 +++$+++ \"murderland\" +++$+++ 4 +++$+++ bruce +++$+++ 2 +++$+++ Let's just see if he can make it into round two....\n",
      "\n",
      "4 +++$+++ \"murderland\" +++$+++ 5 +++$+++ bruce +++$+++  +++$+++ Don't.\n",
      "\n"
     ]
    }
   ],
   "source": [
    "filename = 'moviequotes.scripts.txt'\n",
    "with open(filename, 'r', encoding='utf-8') as file:\n",
    "    for i in range(5):\n",
    "        line = file.readline()\n",
    "        print(line)"
   ]
  },
  {
   "cell_type": "markdown",
   "metadata": {
    "id": "3acmKwnI_1W-"
   },
   "source": [
    "As we can tell from the first 5 lines, we have the following syntax:\n",
    "\n",
    "`{line ID} +++$+++ {movie title} +++$+++ {line number} +++$+++ {character} +++$+++ {reply line ID} +++$+++ {line}`\n",
    "\n",
    "Where:\n",
    "* `line ID`: Unique identifier for each line in the present dataset.\n",
    "* `movie title`: the name of the movie.\n",
    "* `line number`: the number of a line for a given movie in the present dataset. This helps keep track of the total lines per movie.\n",
    "* `character`: the person saying the line.\n",
    "* `reply line ID`: The line ID of the text the current line is responding to.\n",
    "* `line`: the words spoken by the character.\n",
    "\n",
    "Let's now turn the dataset into a more organized structure, so we may examine it further."
   ]
  },
  {
   "cell_type": "code",
   "execution_count": null,
   "metadata": {
    "id": "iciQqFAQ_1W_",
    "outputId": "8cc62beb-33ea-4239-e025-639480456b17"
   },
   "outputs": [
    {
     "name": "stdout",
     "output_type": "stream",
     "text": [
      "Total valid lines: 893767\n",
      "Total invalid lines: 247\n"
     ]
    }
   ],
   "source": [
    "import pandas as pd\n",
    "\n",
    "# parse the data line by line\n",
    "data = []\n",
    "invalid_lines = []\n",
    "with open(filename, 'r', encoding='utf-8', errors='ignore') as file:\n",
    "    for line in file:\n",
    "        parts = line.strip().split(' +++$+++ ')\n",
    "        if len(parts) == 6:  # Ensure it has all parts\n",
    "            data.append(parts)\n",
    "        else:\n",
    "            invalid_lines.append(line)\n",
    "\n",
    "# save to a dataframe\n",
    "columns = [\n",
    "    'line_id', 'movie_title', 'movie_line_number',\n",
    "    'character', 'reply_line_id', 'line'\n",
    "]\n",
    "df = pd.DataFrame(data, columns=columns)\n",
    "\n",
    "# save statistics\n",
    "print(f\"Total valid lines: {len(df)}\")\n",
    "print(f\"Total invalid lines: {len(invalid_lines)}\")"
   ]
  },
  {
   "cell_type": "markdown",
   "metadata": {
    "id": "TheE5FM2_1XA"
   },
   "source": [
    "We've saved almost 900k lines with a valid structure, while only losing a minimal amount of data during parsing. Let's explore the dataset:"
   ]
  },
  {
   "cell_type": "code",
   "execution_count": null,
   "metadata": {
    "id": "YiN5LN5b_1XA",
    "outputId": "d25b6c59-9e6f-4506-830a-7581645a67c2"
   },
   "outputs": [
    {
     "data": {
      "text/html": [
       "<div>\n",
       "<style scoped>\n",
       "    .dataframe tbody tr th:only-of-type {\n",
       "        vertical-align: middle;\n",
       "    }\n",
       "\n",
       "    .dataframe tbody tr th {\n",
       "        vertical-align: top;\n",
       "    }\n",
       "\n",
       "    .dataframe thead th {\n",
       "        text-align: right;\n",
       "    }\n",
       "</style>\n",
       "<table border=\"1\" class=\"dataframe\">\n",
       "  <thead>\n",
       "    <tr style=\"text-align: right;\">\n",
       "      <th></th>\n",
       "      <th>line_id</th>\n",
       "      <th>movie_title</th>\n",
       "      <th>movie_line_number</th>\n",
       "      <th>character</th>\n",
       "      <th>reply_line_id</th>\n",
       "      <th>line</th>\n",
       "    </tr>\n",
       "  </thead>\n",
       "  <tbody>\n",
       "    <tr>\n",
       "      <th>279348</th>\n",
       "      <td>323990</td>\n",
       "      <td>glengarry glen gross</td>\n",
       "      <td>845</td>\n",
       "      <td>lingk</td>\n",
       "      <td>323989</td>\n",
       "      <td>...and...and...</td>\n",
       "    </tr>\n",
       "    <tr>\n",
       "      <th>825341</th>\n",
       "      <td>815050</td>\n",
       "      <td>titanic</td>\n",
       "      <td>1019</td>\n",
       "      <td>jack</td>\n",
       "      <td>815049</td>\n",
       "      <td>Almost as good as you.</td>\n",
       "    </tr>\n",
       "    <tr>\n",
       "      <th>242266</th>\n",
       "      <td>282910</td>\n",
       "      <td>fight club</td>\n",
       "      <td>449</td>\n",
       "      <td>jack</td>\n",
       "      <td>282909</td>\n",
       "      <td>This could go on for hours.</td>\n",
       "    </tr>\n",
       "    <tr>\n",
       "      <th>45997</th>\n",
       "      <td>44506</td>\n",
       "      <td>american history x</td>\n",
       "      <td>828</td>\n",
       "      <td>derek</td>\n",
       "      <td></td>\n",
       "      <td>Hey.</td>\n",
       "    </tr>\n",
       "    <tr>\n",
       "      <th>232079</th>\n",
       "      <td>269334</td>\n",
       "      <td>extract</td>\n",
       "      <td>692</td>\n",
       "      <td>rory</td>\n",
       "      <td>269333</td>\n",
       "      <td>It's bullshit man. We should get a piece of it...</td>\n",
       "    </tr>\n",
       "  </tbody>\n",
       "</table>\n",
       "</div>"
      ],
      "text/plain": [
       "       line_id           movie_title movie_line_number character  \\\n",
       "279348  323990  glengarry glen gross               845     lingk   \n",
       "825341  815050               titanic              1019      jack   \n",
       "242266  282910            fight club               449      jack   \n",
       "45997    44506    american history x               828     derek   \n",
       "232079  269334               extract               692      rory   \n",
       "\n",
       "       reply_line_id                                               line  \n",
       "279348        323989                                    ...and...and...  \n",
       "825341        815049                             Almost as good as you.  \n",
       "242266        282909                        This could go on for hours.  \n",
       "45997                                                              Hey.  \n",
       "232079        269333  It's bullshit man. We should get a piece of it...  "
      ]
     },
     "execution_count": 3,
     "metadata": {},
     "output_type": "execute_result"
    }
   ],
   "source": [
    "df.sample(5)"
   ]
  },
  {
   "cell_type": "code",
   "execution_count": null,
   "metadata": {
    "id": "Tt2Idu9s_1XB",
    "outputId": "9af43be8-a3ea-4062-b87d-3a355236576a"
   },
   "outputs": [
    {
     "name": "stdout",
     "output_type": "stream",
     "text": [
      "Total movies: 1068\n",
      "Total unique characters: 79844\n"
     ]
    }
   ],
   "source": [
    "# print summary stats\n",
    "print(f\"Total movies: {len(df[\"movie_title\"].unique())}\")\n",
    "\n",
    "unique_characters = df[['character', 'movie_title']].drop_duplicates()\n",
    "print(f\"Total unique characters: {len(unique_characters)}\")\n",
    "\n",
    "# clear memory\n",
    "del unique_characters"
   ]
  },
  {
   "cell_type": "markdown",
   "metadata": {
    "id": "Mi1uHBHu_1XB"
   },
   "source": [
    "Let's now dive deeper into the lines of the dataset:"
   ]
  },
  {
   "cell_type": "code",
   "execution_count": null,
   "metadata": {
    "id": "Ym2Ohw4y_1XC",
    "outputId": "42fa75dc-267c-4f7c-9d93-235238a04c4b"
   },
   "outputs": [
    {
     "name": "stdout",
     "output_type": "stream",
     "text": [
      "         total_words\n",
      "count  893767.000000\n",
      "mean       11.680788\n",
      "std        15.001486\n",
      "min         1.000000\n",
      "25%         4.000000\n",
      "50%         7.000000\n",
      "75%        14.000000\n",
      "max      2457.000000\n"
     ]
    },
    {
     "data": {
      "image/png": "[encoded data removed]",
      "text/plain": [
       "<Figure size 640x480 with 1 Axes>"
      ]
     },
     "metadata": {},
     "output_type": "display_data"
    }
   ],
   "source": [
    "import matplotlib.pyplot as plt\n",
    "\n",
    "df[\"total_words\"] = df['line'].apply(\n",
    "    lambda x: len(str(x).split())\n",
    ")\n",
    "\n",
    "# check distribution\n",
    "print(df[\"total_words\"].describe().to_frame())\n",
    "\n",
    "# plot\n",
    "df['total_words'].hist(bins=300, edgecolor='black')\n",
    "plt.title('Histogram of Word Counts')\n",
    "plt.xlabel('Word Count')\n",
    "plt.ylabel('Frequency')\n",
    "plt.xlim(0, 100)\n",
    "plt.grid(False)\n",
    "plt.show()"
   ]
  },
  {
   "cell_type": "markdown",
   "metadata": {
    "id": "EVi2IQIT_1XC"
   },
   "source": [
    "As we can see, the average line is fairly short, with a mean of 11.7 words and a median of 7, and the great majority of lines aren't longer than 40 words.\n",
    "\n",
    "We also have some interesting outliers in the dataset. One of the lines is 2457 words long! an intervention this long probably isn't part of a dialogue, so much as a monologue, and we don't want to include it in our dataset. Imagine talking to a chatbot, only for it to respond to you in several paragraphs of text.\n",
    "\n",
    "Our rule of thumb will be to cut off any texts longer than 30 words. This way, we train the model to both expect and return reasonable-length texts.\n",
    "\n",
    "Notice we don't want to cut off very short responses, as this is a natural part of most conversations and it allows it to flow naturally. For example, a \"hello\" - \"hello\" interaction is perfectly fine for our purposes."
   ]
  },
  {
   "cell_type": "code",
   "execution_count": null,
   "metadata": {
    "id": "ewiTuC7I_1XC",
    "outputId": "fda911ed-296e-41fe-f23b-568b31c3c813"
   },
   "outputs": [
    {
     "data": {
      "text/plain": [
       "454321    |      Well, At least We've got ONE shrubbery. | |                              OTHER KNIGHTS |      Yes, Yes ... We've Done very Well ...  NI! | |                              TALL KNIGHT |      Ssh! I think somebody's coming.  We'll get them to give us |      another shrubbery. | |                              OTHER KNIGHTS |      Good Idea.  More shrubberies.  As many as possible. | |   Perhaps we start to TRACK BACK from the scene as they go on talking. | |                              TALL KNIGHT |      What shall we call ourselves this time? | |                              KNIGHT |      How about \"The knights of Nicky-Nicky\"? | | |28 EXTERIOR - DAY | |   A Small group of PEASANTS are being shuffled into a group formation, at the |   apparent direction of someone behind the camera.  A Few coughs |   as they shuffle together.  a moment of silence.  then they burst |   into pleasant  song. | |   Song:   When the trees do blossom full |           and all the hills are green |           Oh! Oh! We sing |           hey! hey! We sing |           our count....ry Song... | |   A hail of arrow hits them and they crumple up.  sound of raucous |   laughter OFF CAMERA. | |   CUT TO Reveal a firing squad of ARCHERS kneeling not ten feet away from |   the group of SINGERS. | |   Sitting on the throne on a dais is KING BRIAN THE WILD.  He is roaring with |   roaring with laughter.  and his court is slightly shabby - bearing all the |   marks of a faded richness.  it is a court without women, and nobody |   does the washing or shaves very well. perhaps there is washing however |   on the line over the castle.  KING BRIAN'S ADVISERS stand around |   him.   Everyone bears the signs of past injuries  I.E. they have an arm in a sling or head bandaged; all the people |   at court, except for BRIAN have their left arm missing  | |                              KING BRIAN |      HA! HA! HA! HA! HA! HO! HO! HO! HO! HA! HA! HA! HA! |      Oh! Very good! Next! | |                              FIRST ADVISER |           |      There are no more, Sir. | |                              KING BRIAN |           |      What do'you mean you filthy dog! | |                              FIRST ADVISER |      There are no more close harmony groups in the kingdom, Sir. | |                              KING BRIAN |      No more close harmony groups!!! | |                              FIRST ADVISER |      We have scoured the kingdom. | |                              KING BRIAN |           |      You Miserable worm! you wretch! You Walking son of a dunghill keeper! |      Guards! | |   Two Rather shabby looking GUARDS approach.  | |                              FIRST ADVISER |      have mercy your MAJESTY! | |                              KING BRIAN |   GUARDS! Take him away and suspend him by his nostrils from the highest |   tree in the kingdom! | |   The Guards grab him unmercifully and drag him off.  he whines piteously. | | |29 EXTERIOR - DAY | |   CUT BACK to the glade where the KNIGHTS OF NI! were.  A police car |   roars up.  Two PLAIN CLOTHES DETECTIVE and a CONSTABLE get out, look |   around suspiciously, perhaps kneel and examine the ground. one POLICEMAN |   finds PATSY's shoe and the other finds a strange scientific instrument that |   was hanging from BEDEVERE. | |   They nod grimly to each other. Climb back in the car and drive off. | | |30 EXTERIOR - DAY | |   Back in KING BRIAN's Court. the FIRST ADVISER has been dragged off.  there |   are muffled screams coming from the nearby tree.  the FIRST ADVISER |   is being hauled up it on pulleys. | |                              SECOND ADVISER |      Your Majesty, I can Find you a Lute player, whose music is passing |      sweet. | |                              KING BRIAN |      It's not the same, You thick-headed fool! |           |      There's no fun in killing soloists! | |                              SECOND ADVISER |           |      He may have a friend... | |                              KING BRIAN |      GUARDS! | |                              SECOND ADVISER |      Oh Please your majesty!  Please! | |                              KING BRIAN |      Take him away and tie his kidneys to the longest hedge in the kingdom! | |   The GUARDS drag the ADVISER roughly away. | |                              SECOND ADVISER |      No! |           | |                              KING BRIAN |           |      I will personally disembowel the next little bastard who tells me that |      there are no more close harmony ... | |   At this moment we hear faintly the sound of singing. KING BRIAN stopped |   to listen.  The entire COURT turns thankfully towards the mellifluous |   sounds. | |      We're the knights of the round table |      our shows are formidable |      but many times we're given rhymes |      that are quite unsingable... | |                              KING BRIAN |      Wait a minute! Five point harmony with a counter-tenor lead! | |   Various members of the COURT sigh and breathe more easily. | |                              CREEP |      Thank goodness. | |                              KING BRIAN |      Shut up! |           |      Oy you! | |                              SECOND ADVISER |           |      Yes, Your majesty? | |                              KING BRIAN |      Go and get 'em! | |                              SECOND ADVISER |           |       Thank you sir! |           | |                              GUARD |      'ere... We'd just started taking his kidneys out. | |   CUT TO ARTHUR,BEDEVERE,GALAHAD and LANCELOT.   |   plus all their pages.  there are riding along singing cheerily. | |                              KNIGHTS |      We're baby mad and Camelot |      we nurse and push the pram a lot |      in war we're tough and able |      quite indefatigable |      between our quests we sequin vests |      and dress like betty gable |      it's a... | |                              SECOND ADVISER |      HALT! | |                              SIR GALAHAD |      Who are you who dares to halt the knights of king Arthur's round table |      in mid-verse? | |                              SECOND ADVISER |      I bring greetings from the court of king Brian. | |                              SIR LANCELOT |      King Brian the wild? | |                              SECOND ADVISER |      Some call him that, but he's calmed down allot recently. | |                              SIR GALAHAD |      Are those YOUR kidneys? | |                              SECOND ADVISER |           |      No no... It's nothing - just a flesh wound. |           |      he has herd your beautiful melody; and wishes you to come to his court, |      that he may listen at his ease ooh! | |                              SIR LANCELOT |      You must be joking! |           |      Go to the court of king Brian the wild and sing close harmony! | |                              OTHER KNIGHTS |      No fear etc. | |                              SECOND ADVISER |           |      It need not be close harmony oooh agh! | |                              SIR GALAHAD |      Ah but it would get round to close harmony, wouldn't it? | |                              SECOND ADVISER |      Not necessarily ... As I say king Brian is much more relaxed than |      he used to be. | |                              SIR GALAHAD |      I mean could we just stick to one line of plainsong with a bit of |      straight choral work? | |                              SECOND ADVISER |      Well obviously he'd prefer a bit of close harmony arghhh! | |                              KNIGHTS |      Ah! There you are! | |                              SIR LAUNCELOT |      We'd end un-like the Shalott Choral Society. | |                              SECOND ADVISER |      Oh that was an accident - honestly he's so calm now oh! | |                              ARTHUR |      No we must be on our way. | |   They start off. | |                              SECOND ADVISER |           |      If you don't come and sing for him ... ah ... he'll drive ... oh |      ... iron spikes though your heads. | |                              KNIGHTS |      Ah! That sounds more like Brian the wild! | |                              SECOND ADVISER |           |      He ... he ... still gets irritable occasionally. | |                              SIR GALAHAD |      Like with close harmony groups. | |                              SECOND ADVISER |      Ooh ... Look if you're scared ... | |                              SIR LANCELOT |      We're not SCARED! | |                              SECOND ADVISER |           |      Very well! King Brian challenges your to sing before him in close |      harmony! | |                              ARTHUR |      A challenge? | |   The KNIGHTS look at each other rather taken aback but an idealistic glow |   suffuses KING ARTHUR's eyes as he looks heaven-wards. The other KNIGHTS |   look at him rather fearfully. | |                              ARTHUR |           |      It is a challenge.  We cannot refuse. | |                              SIR GALAHAD |      King Brian's a fucking looney. | |                              SECOND ADVISER |      Great! |           | |                              SIR GALAHAD |      Are you all right? | |   CUT TO KING BRIAN the wild on his dias.  he sees the KNIGHTS enter |   the arena. | |                              KING BRIAN |      Ah good! | |   CUT TO TRUMPETERS who executes a rather bad fanfare full of missed |   notes.  meanwhile various SHOTS of preparation. | |   KING BRIAN settling down. | |   KNIGHTS being led up to the podium. the last of the previous close harmony |   group is being loaded onto a cart and pushed away by the cart driver |   from scene tow  | |   SHOT of KING BRIAN on his podium and the HERALD being untied and having |   his gag removed. | |   SHOT of ARTHUR and KNIGHTS getting into a group on the podium still |   rather nervous. | |   The fanfare comes to an end, and several wrong notes. | |                              KING BRIAN |           |      RIGHT! Carry on gentleman. | |                              HERALD |      KING BRIAN SAYS CARRY ON! | |                              ARTHUR |           |      All right ... two tenor lines - I'll take the base. | |   They all nod. | |      One... Two... Three... | |   Sound of Bows being drown very near by. | |   ARTHUR looks up and frowns. | |   CUT to reveal a line of twenty ARCHERS they all have their left leg |   missing, but they DO have two arms. | |   Their arrows are drawn back and point directly at ARTHUR & CO. | |                              ARTHUR |      Hold it! Err ... King Brian! | |                              HERALD |           |      ARTHUR OF CAMELOT ADDRESSES THEE OH MIGHTY KING BRIAN! | |                              KING BRIAN |            |      What? | |                              ARTHUR |      What are THEY For? |           | |                              KING BRIAN |      Them? they're... just to show you where the audience would be. | |                              ARTHUR |      Well we'd prefer to do it without an audience. | |                              KING BRIAN |      Oh you've GOT to have an AUDIENCE! | |                              HERALD |      KING BRIAN THE WISE AND GOOD RULER OF THIS LAND SAYS YOU'VE GOT TO |      HAVE AN AUDIENCE! | |                              ARTHUR |      We'd rather give a private recital. | |                              HERALD |      THEY SAY THEY'D RATHER GIVE A PRIVATE RECITAL! O WISE GOOD AND JUST |      KING BRIAN AND NOT THE LEAST BIT WILD! | |                              KING BRIAN |           |      Turds... | |   HE nods to the ARCHERS who turn and hop smartly off in step. | |                              ONE-LEGGED RSM |      Left ... Left ... Left, left, left, left |      Left ... Left ... Left, left, left, left. | |   They hop round behind a long fence and disappear from sight |    | |                              KING BRIAN |      Right! Ready when you are. | |                              HERALD |      KING BRIAN IS READY! | |                              ARTHUR |      And ... One ... Two ... Three ... Four ... | |   They are just about to sing when the ARCHERS, bows read and arrows points, |   peep over the top of the fence. | |      HOLD IT! | |                              SIR GAWAIN |           |      We're | |   Quick flash of ARCHERS sensed to fire, one tires to hold his shot back but |   fails and fires his arrows by accident in the air. | |   Quick flash of FIRST ADVISER who is hanging by his nostrils from the |   highest tree in the kingdom, moaning, getting hit by the arrow. | |                              KING BRIAN |      What is it now? | |                              ARTHUR |      We're not entirely happy with the acoustics. | |                              HERALD |      THEY'RE NOT ENTIRELY HAPPY WITH... | |                              KING BRIAN |           |      Oh Sod the acoustics!  Get on with the singing! | |                              HERALD |      KING BRIAN SAYS SOD THE ACOUSTICS! | |                              ARTHUR |      In that case we shall just have to perform elsewhere. |           | |                              HERALD |      THEY SAY IN THAT CASE THEY SHALL HAVE TO PERFORM ELSEWHERE, O RICH, |      FAMOUS AND EXTREMELY CALM KING! | |                              KING BRIAN |           |      NO! you've GOT to sing on the target are - er - convert ... er ... |      thing ... | |                              HERALD |      KING BRIAN HAS STUMBLED OVER HIS WORDS! WHAT A WONDERFULLY HUMAN |      INCIDENT. | |                              KING BRIAN |      Don't editorialize! | |                              HERALD |      SORRY, KING. | |                              KING BRIAN |      Come on you bastards! Sing close harmony! | |   KING BRIAN snaps his finders and the ARCHERS rise above the fence without |   any pretence it concealment - fitting arrows into their bows. | |                              HERALD |      KING BRIAN CALLS THEM BASTARDS AND DEMANDS TO HEAD CLOSE HARMONY! |      WHAT WILL HAPPEN NEXT? | |                              KING BRIAN |      I said don't. | |                              HERALD |      Sorry, King. | |                              KING BRIAN |      Right! On the count of three ... one ... | |                              HERALD |      THE KING'S SAID ONE! | |                              KING BRIAN |      Two! | |                              HERALD |      THE KING'S SAID TWO! THEY'VE ONLY GOT ONE LEFT! | |   We hear the sound of bows being drawn back.  Tension mounts.  the KNIGHTS |   all look pretty grim.  The end is clearly pretty near. | |                              KING BRIAN |           |      Three! | |                              HERALD |      THREE! | |   Sound in the distance of beautiful close harmony singing | |      \"Bravely, good sir robin was not at all afraid...\" | |   CUT TO see SIR ROBIN and his MINSTRELS approaching from round a corner |   of the castle. SIR ROBIN walks a few feet in from of the them looking |   rather embarrassed. | |                              KING BRIAN |           |      FANTASTIC! | |   CUT BACK TO ROBIN'S MINSTRELS | |      \"To have his eyeballs skewered and his kidneys ... argh!\" | |   They are suddenly pin-cushioned with arrows. | |                              KING BRIAN |      HA! HA! HA! HA! HO! HO! HO! HO! |      Oh bloody marvellous! | |   ROBIN turns and looks at the decimated remains of his MINSTRELS, surprised |   but relieved. | |                              ARTHUR |      Sir Robin! this way! | |   ARTHUR leads is MEN off the platform and they are joined by their PAGES and |   make good their escape. | |                              KING BRIAN |      HA! HA! HA! HA! HA! HA! HO! HO! HO! HO! | |                              HERALD |      KING BRIAN'S SHOT THE WRONG GROUP! | |                              KING BRIAN |      Shut up! | |   HE swings his sword and slices the HERALD'S head off. | |                              HERALD'S HEAD |           |      PRESS FREEDOM INFRINGED! |\n",
       "Name: line, dtype: object"
      ]
     },
     "execution_count": 6,
     "metadata": {},
     "output_type": "execute_result"
    }
   ],
   "source": [
    "pd.set_option('display.max_colwidth', None)\n",
    "\n",
    "df[df[\"total_words\"] == 2457][\"line\"]"
   ]
  },
  {
   "cell_type": "markdown",
   "metadata": {
    "id": "fvvYTZWL_1XD"
   },
   "source": [
    "Examining further the longest text found in the dataset, we see it's actually a parsing error from the original dataset collection. This text actually contains several interactions (maybe even the whole movie) between different characters that weren't properly separated, which is even more reason to eliminate it from our dataset."
   ]
  },
  {
   "cell_type": "code",
   "execution_count": null,
   "metadata": {
    "id": "TI6Xc2z0_1XD",
    "outputId": "c8fefcd1-e43c-47ee-f810-6c9082656b47"
   },
   "outputs": [
    {
     "name": "stdout",
     "output_type": "stream",
     "text": [
      "Lost rows after filtering dataset: 62956\n",
      "Percentage of data lost: 7.044%\n"
     ]
    }
   ],
   "source": [
    "# reduce the size of the dataset\n",
    "initial_size = df.shape[0]\n",
    "\n",
    "df = df[df[\"total_words\"] <= 30]\n",
    "final_size = df.shape[0]\n",
    "\n",
    "print(f\"Lost rows after filtering dataset: {initial_size - final_size}\")\n",
    "print(f\"Percentage of data lost: {round((initial_size - final_size) / initial_size * 100, 3)}%\")"
   ]
  },
  {
   "cell_type": "markdown",
   "metadata": {
    "id": "ewAR9Qs5_1XE"
   },
   "source": [
    "Optionally, we can choose to eliminate from the dataset lines that have expletives or insults, so we don't accidentally train a rude chatbot.\n",
    "\n",
    "To do this, we can load an environment variable called `FORBIDDEN_WORDS`, which contains a list of words to clean from the dataset. Naturally, I won't be repeating here any of the words I loaded on my **.env** file!"
   ]
  },
  {
   "cell_type": "code",
   "execution_count": null,
   "metadata": {
    "id": "cRiOWUbF_1XE",
    "outputId": "b7ed8c33-a842-4c31-dbe0-f8e41a36f68a"
   },
   "outputs": [
    {
     "name": "stdout",
     "output_type": "stream",
     "text": [
      "Lost rows after filtering dataset: 15624\n",
      "Percentage of data lost: 1.881%\n"
     ]
    }
   ],
   "source": [
    "import os\n",
    "import re\n",
    "import ast\n",
    "\n",
    "forbidden_words = os.getenv(\"FORBIDDEN_WORDS\", [])\n",
    "\n",
    "if isinstance(forbidden_words, str):\n",
    "    try:\n",
    "        forbidden_words = ast.literal_eval(forbidden_words)\n",
    "        if not isinstance(forbidden_words, list):\n",
    "            raise ValueError(\"env var couldn't be converted to list.\")\n",
    "    except Exception:\n",
    "        forbidden_words = []\n",
    "\n",
    "if isinstance(forbidden_words, list) and len(forbidden_words) > 0:\n",
    "    initial_size = len(df)\n",
    "    # map words using regex and clear thos rows out\n",
    "    pattern = r'\\b(?:' + '|'.join(map(re.escape, forbidden_words)) + r')\\b'\n",
    "    df = df[~df['line'].str.contains(pattern, case=False, na=False)]\n",
    "    final_size = len(df)\n",
    "\n",
    "    print(f\"Lost rows after filtering dataset: {initial_size - final_size}\")\n",
    "    print(f\"Percentage of data lost: {round((initial_size - final_size) / initial_size * 100, 3)}%\")\n"
   ]
  },
  {
   "cell_type": "markdown",
   "metadata": {
    "id": "2kSZyrDn_1XE"
   },
   "source": [
    "We managed to get rid of some obvious expletive words, but this doesn't mean we got all of them. For a more production-grade application, you could parse the entire dataset's vocabulary, maybe with the help of an LLM, and do a more complete mapping of all forbidden words or expressions."
   ]
  },
  {
   "cell_type": "markdown",
   "metadata": {
    "id": "8eqJDQXs_1XE"
   },
   "source": [
    "After doing this cleaning, the final step is to match a prompt to a reply, which is what we want to train the model on. To receive a prompt or question, and to return an answer in relation to it. We do this by mapping the columns `line_id` and `reply_line_id`."
   ]
  },
  {
   "cell_type": "code",
   "execution_count": null,
   "metadata": {
    "id": "FJR4A7na_1XE",
    "outputId": "eb5644a8-8cab-4940-ce81-0f35cc48275c"
   },
   "outputs": [
    {
     "name": "stdout",
     "output_type": "stream",
     "text": [
      "Total rows: 425928\n"
     ]
    },
    {
     "data": {
      "text/html": [
       "<div>\n",
       "<style scoped>\n",
       "    .dataframe tbody tr th:only-of-type {\n",
       "        vertical-align: middle;\n",
       "    }\n",
       "\n",
       "    .dataframe tbody tr th {\n",
       "        vertical-align: top;\n",
       "    }\n",
       "\n",
       "    .dataframe thead th {\n",
       "        text-align: right;\n",
       "    }\n",
       "</style>\n",
       "<table border=\"1\" class=\"dataframe\">\n",
       "  <thead>\n",
       "    <tr style=\"text-align: right;\">\n",
       "      <th></th>\n",
       "      <th>question</th>\n",
       "      <th>answer</th>\n",
       "    </tr>\n",
       "  </thead>\n",
       "  <tbody>\n",
       "    <tr>\n",
       "      <th>3</th>\n",
       "      <td>I didn't think he'd make it past Scraps.</td>\n",
       "      <td>Let's just see if he can make it into round two....</td>\n",
       "    </tr>\n",
       "    <tr>\n",
       "      <th>5</th>\n",
       "      <td>Don't.</td>\n",
       "      <td>What ?</td>\n",
       "    </tr>\n",
       "    <tr>\n",
       "      <th>6</th>\n",
       "      <td>What ?</td>\n",
       "      <td>Don't eat at the console.</td>\n",
       "    </tr>\n",
       "    <tr>\n",
       "      <th>7</th>\n",
       "      <td>Don't eat at the console.</td>\n",
       "      <td>What ? Are you my mother ?</td>\n",
       "    </tr>\n",
       "    <tr>\n",
       "      <th>13</th>\n",
       "      <td>Never underestimate a man who cheats on his taxes. His file says he is an avid jogger.</td>\n",
       "      <td>You've got to be kidding me ! His lazy ass couldn't win the special Olympics.</td>\n",
       "    </tr>\n",
       "  </tbody>\n",
       "</table>\n",
       "</div>"
      ],
      "text/plain": [
       "                                                                                  question  \\\n",
       "3                                                 I didn't think he'd make it past Scraps.   \n",
       "5                                                                                   Don't.   \n",
       "6                                                                                   What ?   \n",
       "7                                                                Don't eat at the console.   \n",
       "13  Never underestimate a man who cheats on his taxes. His file says he is an avid jogger.   \n",
       "\n",
       "                                                                           answer  \n",
       "3                             Let's just see if he can make it into round two....  \n",
       "5                                                                          What ?  \n",
       "6                                                       Don't eat at the console.  \n",
       "7                                                      What ? Are you my mother ?  \n",
       "13  You've got to be kidding me ! His lazy ass couldn't win the special Olympics.  "
      ]
     },
     "execution_count": 9,
     "metadata": {},
     "output_type": "execute_result"
    }
   ],
   "source": [
    "# First, create a mapping from line_id to line\n",
    "line_dict = df.set_index(\"line_id\")[\"line\"].to_dict()\n",
    "\n",
    "# Now, create the 'question' and 'answer' pairs\n",
    "df[\"question\"] = df[\"reply_line_id\"].map(line_dict)\n",
    "df[\"answer\"] = df[\"line\"]\n",
    "\n",
    "# Filter to keep only rows where a valid mapping exists\n",
    "dataset = df[[\"question\", \"answer\"]].dropna()\n",
    "print(f\"Total rows: {len(dataset)}\")\n",
    "dataset.head()"
   ]
  },
  {
   "cell_type": "code",
   "execution_count": null,
   "metadata": {
    "id": "67f_o_pQ_1XF"
   },
   "outputs": [],
   "source": [
    "# clear memory\n",
    "del df"
   ]
  },
  {
   "cell_type": "markdown",
   "metadata": {
    "id": "hmCBpHlc_1XF"
   },
   "source": [
    "After initial preprocessing, we now have 440k dialogue interactions to train our chatbot model. It's worth mentioning some limitations we'll be working with:\n",
    "\n",
    "* The dataset is limited to a single question-answer interaction, which reduces the chatbot's ability to provide realistic real-life responses. Think that in a real conversation, your answer depends not only on what you're being told, but also the person who's telling you, your relationship with them, other people listening on the conversation, the things said prior, the subject of the conversation, among many other things. Our chatbot won't have access to any of them, which will naturally limit its capabilities.\n",
    "\n",
    "* This dataset isn't exactly the best option if you want to build a functional chatbot, as it's built on data from movies, many of which contain characters that may have special conditions or problems, who may be rude, demented, among other things, so their answers may not be what you expect from a normal person. However, this is part of the fun of the exercise, being able to see what crazy conversations arise from interacting with a model of this kind.\n"
   ]
  },
  {
   "cell_type": "markdown",
   "metadata": {
    "id": "IeDFld2eG6mE"
   },
   "source": [
    "----------\n",
    "\n",
    "## 1. Data Tokenization\n",
    "\n",
    "Now, we use our pre-processed data from the last section and some auxiliary packages from the `transformers` library so we can:\n",
    "* add the prefix 'chat: ' to the question part of the dialogue, to facilitate recognition by the model.\n",
    "* convert the data into a `Dataset` instance, to facilitate interactions with it.\n",
    "* load the tokenizer from the T5-small model, which turns a text into a list of token IDs, using the same mapping the original model was trained on.\n",
    "* use the T5 Tokenizer to tokenize our dataset."
   ]
  },
  {
   "cell_type": "code",
   "execution_count": null,
   "metadata": {
    "id": "YZ16gXIe9qn6"
   },
   "outputs": [],
   "source": [
    "from datasets import Dataset\n",
    "from transformers import T5Tokenizer\n",
    "\n",
    "# further preprocess 'question' texts\n",
    "dataset[\"question\"] = \"chat: \" + dataset[\"question\"]\n",
    "input_text = dataset['question'].fillna(\"\").astype(str)\n",
    "target_text = dataset['answer'].fillna(\"\").astype(str)\n",
    "\n",
    "# convert to Dataset\n",
    "dataset = Dataset.from_pandas(dataset)\n",
    "\n",
    "# load T5 Tokenizer\n",
    "tokenizer = T5Tokenizer.from_pretrained(\"t5-small\")"
   ]
  },
  {
   "cell_type": "code",
   "execution_count": null,
   "metadata": {
    "colab": {
     "base_uri": "https://localhost:8080/",
     "height": 49,
     "referenced_widgets": [
      "cc0a3dd87ec045378449b891486043e0",
      "966e6e2f1a554935b322e434bcab5be7",
      "14e35b3f63f84cc8b36b1068d151419b",
      "7e2130676ec54299b35318cccbfbc355",
      "ddd63bed8f914b07852336c6be24ddb6",
      "25868b15af944ebea05480e512da72c3",
      "87cdd075ae2b40e5ba378f9e2e99ba88",
      "4ed7d957b4b443a28d61cd5a837956e9",
      "0ce2a76c6bdb4aff86c81488b0c9dcd6",
      "03b921ca35d248e9b4288c1b309a9fa6",
      "dd37f10703eb4625bc0970d40bb3cae6",
      "964a9bd8887e43c79d5730a7335b22d9"
     ]
    },
    "id": "_psv-Q23Gd3W",
    "outputId": "b9dd9625-14c0-4514-d34b-a3d71f4e9e4d"
   },
   "outputs": [],
   "source": [
    "def preprocess(example):\n",
    "    '''\n",
    "    Simple function for pre-processing the input data, which is fed to the\n",
    "    Datasets instance object.\n",
    "    '''\n",
    "    # Turn the question into model input, and answer into expected output\n",
    "    input_text = example[\"question\"]\n",
    "    target_text = example[\"answer\"]\n",
    "\n",
    "    # Tokenize the sequences\n",
    "    input_enc = tokenizer(input_text, truncation=True, padding=\"max_length\", max_length=64)\n",
    "    target_enc = tokenizer(target_text, truncation=True, padding=\"max_length\", max_length=64)\n",
    "\n",
    "    # Replace padding tokens in labels with -100 so the model ignores them\n",
    "    labels = target_enc[\"input_ids\"]\n",
    "    labels = [token if token != tokenizer.pad_token_id else -100 for token in labels]\n",
    "\n",
    "    return {\n",
    "        \"input_ids\": input_enc[\"input_ids\"],\n",
    "        \"attention_mask\": input_enc[\"attention_mask\"],\n",
    "        \"labels\": labels,\n",
    "    }\n",
    "\n",
    "# apply preprocessing function to dataset\n",
    "tokenized_dataset = dataset.map(preprocess)"
   ]
  },
  {
   "cell_type": "code",
   "execution_count": null,
   "metadata": {
    "colab": {
     "base_uri": "https://localhost:8080/"
    },
    "id": "A1fp7ZaUHgIW",
    "outputId": "635219a0-e211-4b0c-a815-540bc6a7bb5c"
   },
   "outputs": [
    {
     "data": {
      "text/plain": [
       "Dataset({\n",
       "    features: ['question', 'answer', '__index_level_0__', 'input_ids', 'attention_mask', 'labels'],\n",
       "    num_rows: 425928\n",
       "})"
      ]
     },
     "execution_count": 13,
     "metadata": {},
     "output_type": "execute_result"
    }
   ],
   "source": [
    "tokenized_dataset"
   ]
  },
  {
   "cell_type": "code",
   "execution_count": null,
   "metadata": {
    "id": "rz5v7Iff_1XG",
    "outputId": "4082e1f1-1cf2-4960-a204-42575f9b242d"
   },
   "outputs": [
    {
     "name": "stdout",
     "output_type": "stream",
     "text": [
      "question: chat: I didn't think he'd make it past Scraps.\n",
      "answer: Let's just see if he can make it into round two....\n",
      "__index_level_0__: 3\n",
      "input_ids: [3582, 10, 27, 737, 31, 17, 317, 3, 88, 31, 26, 143, 34, 657, 27962, 7, 5, 1, 0, 0, 0, 0, 0, 0, 0, 0, 0, 0, 0, 0, 0, 0, 0, 0, 0, 0, 0, 0, 0, 0, 0, 0, 0, 0, 0, 0, 0, 0, 0, 0, 0, 0, 0, 0, 0, 0, 0, 0, 0, 0, 0, 0, 0, 0]\n",
      "attention_mask: [1, 1, 1, 1, 1, 1, 1, 1, 1, 1, 1, 1, 1, 1, 1, 1, 1, 1, 0, 0, 0, 0, 0, 0, 0, 0, 0, 0, 0, 0, 0, 0, 0, 0, 0, 0, 0, 0, 0, 0, 0, 0, 0, 0, 0, 0, 0, 0, 0, 0, 0, 0, 0, 0, 0, 0, 0, 0, 0, 0, 0, 0, 0, 0]\n",
      "labels: [1563, 31, 7, 131, 217, 3, 99, 3, 88, 54, 143, 34, 139, 1751, 192, 2824, 1, -100, -100, -100, -100, -100, -100, -100, -100, -100, -100, -100, -100, -100, -100, -100, -100, -100, -100, -100, -100, -100, -100, -100, -100, -100, -100, -100, -100, -100, -100, -100, -100, -100, -100, -100, -100, -100, -100, -100, -100, -100, -100, -100, -100, -100, -100, -100]\n"
     ]
    }
   ],
   "source": [
    "# example of a visualization\n",
    "for key, value in tokenized_dataset[0].items():\n",
    "    print(f\"{key}: {value}\")"
   ]
  },
  {
   "cell_type": "markdown",
   "metadata": {
    "id": "Wav3qTGH_1XG"
   },
   "source": [
    "After tokenizing the dataset, we get back a list of dictionaries with as many elements as there are rows in the dataset. Each dictionary contains:\n",
    "* `question`: the original input sequence\n",
    "* `answer`: the original target sequence\n",
    "* `input_ids`: the encoding for the input sequence. That is, a list of token IDs which represent the original input sequence.\n",
    "* `labels`: the encoding for the output sequence.\n",
    "* `attention_mask`: Notice we used 'max' padding when tokenizing the dataset. This means that all sequences are padded to the length of the longest sequence in the dataset, which is a measure we take as the model expects sequences of the same length. The attention mask is a binary encoding to each token in the input sequence, which is equal to 1 if the token corresponds to a real token, or 0 if the token was padded. This way, the model knows to ignore padded tokens when calculating its outputs.\n",
    "* `__index_level_0__`: just an unnecessary column that got carried on from the mapping process from pandas, we can get rid of it next."
   ]
  },
  {
   "cell_type": "code",
   "execution_count": null,
   "metadata": {
    "id": "oFi4BFsKlAoy"
   },
   "outputs": [],
   "source": [
    "dataset = dataset.remove_columns(\"__index_level_0__\")"
   ]
  },
  {
   "cell_type": "markdown",
   "metadata": {
    "id": "zD_-yURCIDEf"
   },
   "source": [
    "-----------\n",
    "## 2. Fine Tuning the `T5 - Small` LM\n",
    "\n",
    "In this part, we'll be using the `transformers` library to load the T5-small model checkpoint, and fine tune it on our movies dataset.\n",
    "\n",
    "Some useful resources:\n",
    "* https://huggingface.co/docs/transformers/main_classes/trainer\n",
    "* https://huggingface.co/docs/transformers/v4.52.2/en/main_classes/trainer#transformers.TrainingArguments"
   ]
  },
  {
   "cell_type": "markdown",
   "metadata": {
    "id": "-ovmjNTI_1XH"
   },
   "source": [
    "Before we proceed, some information about this model:\n",
    "\n",
    "* It's the smallest of a T5 family of models developed by Google in 2019. All of them are encoder-decoder text-to-text transformer models, trained on the web-crawled dataset we mentioned at the beginning of the notebook.\n",
    "* This model has only around 60M parameters, which makes it small enough to be used in a casual implementation like this one.\n",
    "* The model has six hidden layers on both its encoder and its decoder, with an embeddings dimension of 512 (size of the encoder's output array)\n",
    "* You can find more information about this model, including the original paper it was published on, on its Hugging Face [model card](https://huggingface.co/google-t5/t5-small)."
   ]
  },
  {
   "cell_type": "code",
   "execution_count": null,
   "metadata": {
    "id": "pFhQOSyLIK2E"
   },
   "outputs": [],
   "source": [
    "from transformers import T5ForConditionalGeneration, Trainer, TrainingArguments\n",
    "import torch\n",
    "\n",
    "model = T5ForConditionalGeneration.from_pretrained(\"t5-small\")"
   ]
  },
  {
   "cell_type": "markdown",
   "metadata": {
    "id": "Rz_qVeR8_1XH"
   },
   "source": [
    "After loading the model, we'll be establishing the parameters for training. Some design decisions made here include:\n",
    "* I decided to not freeze any of the layers in the model, reasoning that as it's already small, this may not be too expensive an operation.\n",
    "* I decided to train the model on all of the available data (after doing the appropriate train - test split), but only for one epoch, so it doesn't have a chance to overfit this data and 'forget' its pre-training, which is also useful to us here.\n",
    "* other secondary parameters, like evaluation strategies, save and report frequencies, were set to a minimum, looking to reduce the computational expense.\n",
    "* if you're implementing this too, you really need a GPU. Otherwise, it will take forever (probably over 50 hours) just to train one epoch!"
   ]
  },
  {
   "cell_type": "code",
   "execution_count": null,
   "metadata": {
    "id": "Ismr-jo3IcU6"
   },
   "outputs": [],
   "source": [
    "training_args = TrainingArguments(\n",
    "    output_dir=\"./t5_chatbot_model\",\n",
    "    eval_strategy=\"no\",\n",
    "    per_device_train_batch_size=2,   # batch size\n",
    "    num_train_epochs=1,\n",
    "    save_steps=500,                  # low save frequency\n",
    "    logging_steps=10000,             # reduce logging prints\n",
    "    save_total_limit=1,              # only save last checkpoint\n",
    "    fp16=torch.cuda.is_available(),\n",
    "    remove_unused_columns=True,      # reduce memory usage\n",
    "    report_to=\"none\"                 # reduce logging\n",
    ")"
   ]
  },
  {
   "cell_type": "code",
   "execution_count": null,
   "metadata": {
    "id": "EgwLds-lLPY9"
   },
   "outputs": [],
   "source": [
    "# train - test split (90-10)\n",
    "tokenized_datasets = tokenized_dataset.train_test_split(test_size=0.1, seed=42)\n",
    "train_dataset = tokenized_datasets[\"train\"]\n",
    "eval_dataset = tokenized_datasets[\"test\"]"
   ]
  },
  {
   "cell_type": "code",
   "execution_count": null,
   "metadata": {
    "colab": {
     "base_uri": "https://localhost:8080/",
     "height": 1000
    },
    "collapsed": true,
    "id": "AbUakaO5LTeL",
    "outputId": "9c502f1e-4477-472c-b833-5af4ced3394e"
   },
   "outputs": [],
   "source": [
    "# define training and complete it\n",
    "trainer = Trainer(\n",
    "    model=model,\n",
    "    args=training_args,\n",
    "    train_dataset=train_dataset,\n",
    "    eval_dataset=eval_dataset,\n",
    ")\n",
    "trainer.train()\n",
    "\n",
    "# save the model locally on the same cell (adjusted for colab), in case it takes too long and the kernel restarts\n",
    "model.save_pretrained(\"./t5_chatbot_model\")\n",
    "tokenizer.save_pretrained(\"./t5_chatbot_model\")\n",
    "import shutil\n",
    "shutil.make_archive(\"t5_chatbot_model\", 'zip', \"./t5_chatbot_model\")\n",
    "files.download(\"t5_chatbot_model.zip\")"
   ]
  },
  {
   "cell_type": "markdown",
   "metadata": {
    "id": "lZG1b1Zg6qf1"
   },
   "source": [
    "----------\n",
    "## 3. Interact with the Model\n",
    "\n",
    "After training the model and saving it locally (or elsewhere), now comes the fun part: we can talk with it!"
   ]
  },
  {
   "cell_type": "markdown",
   "metadata": {
    "id": "cE9IPN9__1XR"
   },
   "source": [
    "In my case, as I was working on Colab for this part, I saw most convenient to mount it to my Google Drive and then load it from there, but you can also load it locally."
   ]
  },
  {
   "cell_type": "code",
   "execution_count": null,
   "metadata": {
    "colab": {
     "base_uri": "https://localhost:8080/"
    },
    "id": "dKa6GFzNzhY4",
    "outputId": "098ce7ca-f35e-4ce7-beb9-4593dbe50b27"
   },
   "outputs": [
    {
     "name": "stdout",
     "output_type": "stream",
     "text": [
      "Mounted at /content/drive\n"
     ]
    }
   ],
   "source": [
    "# load libraries (again) just in case you're starting from here\n",
    "import torch\n",
    "from google.colab import drive\n",
    "from transformers import T5Tokenizer, T5ForConditionalGeneration\n",
    "\n",
    "# mount Google Drive\n",
    "drive.mount('/content/drive')\n",
    "\n",
    "# load model directory\n",
    "model_path = \"/content/drive/MyDrive/Colab Notebooks/t5_chatbot_model\"\n",
    "tokenizer = T5Tokenizer.from_pretrained(model_path, local_files_only=True)\n",
    "model = T5ForConditionalGeneration.from_pretrained(model_path)\n",
    "\n",
    "device = torch.device(\"cuda\" if torch.cuda.is_available() else \"cpu\")\n",
    "model = model.to(device)"
   ]
  },
  {
   "cell_type": "markdown",
   "metadata": {
    "id": "tQdgqF32_1XR"
   },
   "source": [
    "Now, we define a function that will act as an interface between us and the model."
   ]
  },
  {
   "cell_type": "code",
   "execution_count": null,
   "metadata": {
    "id": "HEBXXcfkMtVZ"
   },
   "outputs": [],
   "source": [
    "def chat(\n",
    "    num_beams: int = 4,\n",
    "    temperature: float =0.7,\n",
    "    top_k:int = 10,\n",
    "    top_p:float = 0.8,\n",
    "    max_length:float = 50\n",
    "):\n",
    "    '''\n",
    "    Simple function to handle interactions with the chatbot, as well as several\n",
    "    parameters controlling the nature of its response.\n",
    "\n",
    "    Params:\n",
    "    -------\n",
    "      num_beams: int\n",
    "        Number of beams used for response generation. This controls the beam search strategy,\n",
    "        where the model explores multiple candidate sequences in parallel. Higher values increase\n",
    "        computational cost but may improve response quality.\n",
    "\n",
    "      temperature: float\n",
    "        Sampling temperature used to control randomness in generation.\n",
    "        Higher values (e.g., > 1.0) produce more random and creative responses, while lower values\n",
    "        (e.g., < 0.7) make outputs more focused and deterministic.\n",
    "\n",
    "      top_k: int\n",
    "        Limits sampling to the top-k most probable tokens at each generation step.\n",
    "        A higher `top_k` increases diversity by considering more possible next tokens.\n",
    "\n",
    "      top_p: float\n",
    "        Nucleus sampling parameter. The model samples from the smallest possible set of tokens\n",
    "        whose cumulative probability exceeds `top_p`. A higher value increases randomness.\n",
    "\n",
    "      max_length: int\n",
    "        The maximum number of tokens to generate in the output response.\n",
    "\n",
    "    Returns:\n",
    "    --------\n",
    "      answer: str\n",
    "        The response generated by the model based on the input prompt.\n",
    "        The interaction continues until the user types \"exit\" or \"quit\".\n",
    "    '''\n",
    "\n",
    "    while True:\n",
    "        user_input = input(\"> You: \")\n",
    "        if user_input.lower() in ['exit', 'quit']:\n",
    "            print(\"------------------\")\n",
    "            print(\"Conversation finished.\")\n",
    "            print(\"------------------\")\n",
    "            break\n",
    "\n",
    "        input_text = \"chat: \" + user_input\n",
    "        input_ids = tokenizer.encode(input_text, return_tensors=\"pt\").to(device)\n",
    "\n",
    "        if num_beams == 1:\n",
    "          early_stopping = False\n",
    "        else:\n",
    "          early_stopping = True\n",
    "\n",
    "\n",
    "        with torch.no_grad():\n",
    "          output_ids = model.generate(\n",
    "              input_ids,\n",
    "              num_beams=num_beams,\n",
    "              max_length=max_length,\n",
    "              do_sample=True,\n",
    "              top_p=top_p,\n",
    "              temperature=temperature,\n",
    "              top_k=top_k,\n",
    "              early_stopping=early_stopping\n",
    "          )\n",
    "        response = tokenizer.decode(output_ids[0], skip_special_tokens=True)\n",
    "        print(\"   >> Bot:\", response)"
   ]
  },
  {
   "cell_type": "markdown",
   "metadata": {
    "id": "Mt3KBDCs_1XS"
   },
   "source": [
    "Finally, we test the model with some interactions. I´m not gonna lie, some of them were really bad and they didn't make the cut, but these are some of the most interesting ones:"
   ]
  },
  {
   "cell_type": "code",
   "execution_count": null,
   "metadata": {
    "colab": {
     "base_uri": "https://localhost:8080/"
    },
    "id": "5C_7qniT5iEf",
    "outputId": "57ab668a-a896-4183-ca21-d56afd622696"
   },
   "outputs": [
    {
     "name": "stdout",
     "output_type": "stream",
     "text": [
      "> You: hello!\n",
      "   >> Bot: yes.\n",
      "> You: how are you?\n",
      "   >> Bot: i'm gonna do that.\n",
      "> You: what are you gonna do?\n",
      "   >> Bot: no, no.\n",
      "> You: are you ok?\n",
      "   >> Bot: what about me?\n",
      "> You: i asked if you are ok\n",
      "   >> Bot: i don't know.\n",
      "> You: are you lost?\n",
      "   >> Bot: no, i am lost.\n",
      "> You: let's go find your parents, boy\n",
      "   >> Bot: i'm not going to be with you.\n",
      "> You: ok, i'm calling the police\n",
      "   >> Bot: what?\n",
      "> You: police! help!\n",
      "   >> Bot: yes, but you can't.\n",
      "> You: quit\n",
      "------------------\n",
      "Conversation finished.\n",
      "------------------\n"
     ]
    }
   ],
   "source": [
    "chat(\n",
    "    num_beams=1,\n",
    "    temperature=0.85,\n",
    "    top_k=20,\n",
    "    top_p=0.9\n",
    ")"
   ]
  },
  {
   "cell_type": "code",
   "execution_count": null,
   "metadata": {
    "colab": {
     "base_uri": "https://localhost:8080/"
    },
    "id": "h4vjdkFTBEoL",
    "outputId": "581ac71a-4eb4-478b-d094-4fc28d5575a8"
   },
   "outputs": [
    {
     "name": "stdout",
     "output_type": "stream",
     "text": [
      "> You: Hello!\n",
      "   >> Bot: hey.\n",
      "> You: what's up?\n",
      "   >> Bot: you have a drink at your apartment!\n",
      "> You: yes, why do you ask?\n",
      "   >> Bot: you asked, you don't know, what we have about it, i don't mean you like it.\n",
      "> You: yes, i like my drinks. do you want one?\n",
      "   >> Bot: no?\n",
      "> You: ok, no problem. See you later\n",
      "   >> Bot: why didn't we leave the office?\n",
      "> You: the office hours aren't over yet!\n",
      "   >> Bot: it's still over, a little, you just want to know how to squabble up your hair in her back. you're just starting to know that she can't sleep, but i'm gonna\n",
      "> You: what?\n",
      "   >> Bot: i don't want to speak with the man.\n",
      "> You: you mean Mr Rogers, the boss?\n",
      "   >> Bot: yes, he will, i will.\n",
      "> You: he's coming right now! you better hide!\n",
      "   >> Bot: no one would even want a word!\n",
      "> You: quit\n",
      "------------------\n",
      "Conversation finished.\n",
      "------------------\n"
     ]
    }
   ],
   "source": [
    "chat(\n",
    "    num_beams=1,\n",
    "    temperature=1.3,\n",
    "    top_k=30,\n",
    "    top_p=0.9\n",
    ")"
   ]
  },
  {
   "cell_type": "code",
   "execution_count": null,
   "metadata": {
    "colab": {
     "base_uri": "https://localhost:8080/"
    },
    "id": "EQdOUIdspIpg",
    "outputId": "2f208e2c-dbb5-448f-8673-32644091a0ed"
   },
   "outputs": [
    {
     "name": "stdout",
     "output_type": "stream",
     "text": [
      "> You: Hello, Mr. Robinson.\n",
      "   >> Bot: hello, mr. robinson.\n",
      "> You: what brings you to my office?\n",
      "   >> Bot: i don't know.\n",
      "> You: is the report card in yet?\n",
      "   >> Bot: the report card is in, and you can't take it.\n",
      "> You: what do you mean by this? I'm your boss\n",
      "   >> Bot: i don't know.\n",
      "> You: Give the report card, Mr. Robinson !\n",
      "   >> Bot: i'll give you the report card!\n",
      "> You: Ouch! why did you hit me?\n",
      "   >> Bot: you're right.\n",
      "> You: Security! Help!\n",
      "   >> Bot: what?\n",
      "> You: take this man away, and make sure he never comes back!\n",
      "   >> Bot: no, you're not here!\n",
      "> You: quit\n",
      "------------------\n",
      "Conversation finished.\n",
      "------------------\n"
     ]
    }
   ],
   "source": [
    "chat(\n",
    "    num_beams=1,\n",
    "    temperature=0.6,\n",
    "    top_k=30,\n",
    "    top_p=0.9\n",
    ")"
   ]
  },
  {
   "cell_type": "markdown",
   "metadata": {
    "id": "CEsvHaD3_1XT"
   },
   "source": [
    "The chatbot probably isn't ready to compete with ChatGPT or Anthropic any time soon, but at least it was capable of producing mostly semantically-coherent sentences, that were sort-of aligned with the initial prompt sequence. That's not bad for only two hours of fine tuning on moderate (minimal) computational expense."
   ]
  },
  {
   "cell_type": "markdown",
   "metadata": {
    "id": "TrLje5rIMlZQ"
   },
   "source": [
    "------\n",
    "## 4. Evaluate the model's performance (in a serious way)\n",
    "\n",
    "For this part, we'll be computing the model's BertScore using the validation data we separated previously.\n",
    "The BERTScore is thought to be one of the most robust metrics for grading a language model's performance, and it involves using BERT embeddings to calculate the semantic similarity between the target responses and the actual responses produced by the model.\n",
    "\n",
    "By contrast, metrics like BLEU only considerate the intersection of words between the target sequence and the produced one. For a chatbot, we want the model to have the flexibility to convey the same message in different words, without being penalized for it. For this reasons, we've chosen to use the BERTScore as a grading metric.\n",
    "\n",
    "Documentation: https://huggingface.co/spaces/evaluate-metric/bertscore"
   ]
  },
  {
   "cell_type": "code",
   "execution_count": null,
   "metadata": {
    "id": "ECA_zI6GM01u"
   },
   "outputs": [],
   "source": [
    "#!pip install evaluate datasets bert-score"
   ]
  },
  {
   "cell_type": "code",
   "execution_count": null,
   "metadata": {
    "colab": {
     "base_uri": "https://localhost:8080/",
     "height": 49,
     "referenced_widgets": [
      "d9b13b23a47b417e9a83d2ff2030b407",
      "e8d8ac5be0a644d1b035a0b47a7cc394",
      "ae5574348cc044ea808273938134ca3b",
      "9fe3cda7637642079147cca10f398277",
      "7b05923b4ec34be3be6cbd2248daac7a",
      "2a770666251c45079c43fdf4c1ca2d81",
      "a5a677fa5a534e43988805d60f0c993a",
      "86ed9071dd09411b9ae14d58d28011c4",
      "2ed9cedd84304027a190a0f32e4f221d",
      "2dbfab83df3e4126bb460b85bf91e396",
      "afb4bb81dc8e42098e36ea89f87c5f93"
     ]
    },
    "id": "DFyadADAX6Zd",
    "outputId": "f671f219-3467-4e74-923f-b9b9a4388b4d"
   },
   "outputs": [],
   "source": [
    "import evaluate\n",
    "bertscore = evaluate.load(\"bertscore\")"
   ]
  },
  {
   "cell_type": "markdown",
   "metadata": {
    "id": "V2rYYnOCYkFO"
   },
   "source": [
    "First, we'll save the validation vs generated responses on different objects, for an easy retrieval. We'll do the grading on 2000 of the validation samples, to further reduce computational cost while retaining representability."
   ]
  },
  {
   "cell_type": "code",
   "execution_count": null,
   "metadata": {
    "colab": {
     "base_uri": "https://localhost:8080/"
    },
    "id": "daYXeSmoX-FX",
    "outputId": "e200f5b6-55c3-4ef9-f50a-876e07a2441c"
   },
   "outputs": [],
   "source": [
    "from tqdm import tqdm\n",
    "\n",
    "# save target sequences\n",
    "predictions = []\n",
    "references = []\n",
    "\n",
    "# loop the dataset to generate-save responses\n",
    "count = 0\n",
    "for example in tqdm(eval_dataset):\n",
    "    input_text = example[\"question\"]\n",
    "    reference = example[\"answer\"]\n",
    "    references.append(reference)\n",
    "\n",
    "    # Tokenizer\n",
    "    input_ids = tokenizer.encode(input_text, return_tensors=\"pt\").to(model.device)\n",
    "\n",
    "    # save predictions\n",
    "    with torch.no_grad():\n",
    "        output_ids = model.generate(input_ids, max_length=50)  # adjust as needed\n",
    "    prediction = tokenizer.decode(output_ids[0], skip_special_tokens=True)\n",
    "    predictions.append(prediction)\n",
    "\n",
    "    count += 1\n",
    "    if count == 2000:  # limit testing dataset\n",
    "      break"
   ]
  },
  {
   "cell_type": "code",
   "execution_count": null,
   "metadata": {
    "colab": {
     "base_uri": "https://localhost:8080/",
     "height": 298,
     "referenced_widgets": [
      "e0219b90f1ad41f08281e6ba5f0bea46",
      "97afffa65fef403b9890f8c9c6c5886f",
      "4b2154db867f440c85068bf6aa46a195",
      "36869e4a07d14a07a5f8c60726f5d11a",
      "10513ba358f4437487bbd20a83acd6e0",
      "d25addb62dbc492f8b96905edc62f192",
      "379bb71d73414ae8a877b9f6152a04e9",
      "b369be3140a44b00913b2654304131bd",
      "162c06e63ed84186a7d86b889482f42e",
      "f93bdb5a18ec473899a8c17cb32657cc",
      "6f8018e4e5664b1c8d308fa4ceeb4571",
      "e38333d122c9446a9b6074095eb629ae",
      "f523ef4d7ad947e3a1091909955d3c4f",
      "3fe937d7c3754bf8b80c958e6a2f6ac5",
      "ac77d8f64ea34982a4510e54cf5bab73",
      "ae5d2131b64c46e18c746eece18860fd",
      "228163aaaf6e4a6b83f48c8084956355",
      "86182dba25a3435ca413a7ea2fc20de0",
      "86e5ad4c05e544ccbdf9542c7f0493db",
      "ee48e43c9966440bb60da1729b7cebda",
      "e89b018537c94e23a7bd58851ec7cc00",
      "038fae4f62714d8bb87489d3920e460c",
      "2626d294805b4bf3ac1ec7ab5ad27a82",
      "b99676b1d030442f819ea557e9c70961",
      "49af0e9c582645a690a81d7fc03b730f",
      "6f7bdff108b7435794660655d9e147b3",
      "6d0ea9a1685640d095f55ccefd1a96ad",
      "8d6f61d73a304851890e99aab1d2cce4",
      "30a21cf8f9124982a59792193e13ebf3",
      "40871d2aae184496a653aaaf25fdcf30",
      "dbb52f1a6a4e452ba0d6a59c6de158f1",
      "0bf81ecae6ad42d4888a67a08a4eb53d",
      "f7b38386023843cd8b7071f208588064",
      "73cdb1c39e75414c9e337165bfa3396f",
      "8ac5025202264ff78569884cf0b2f17f",
      "12f82fdeb6a84897842530f7d31982c9",
      "ea74dc9c43d14428a909a52a0e3e9031",
      "cb60144cb00d4db2a390716b19662606",
      "e1aa2a2309464cb1bd8489c3234ee2ac",
      "be453a750c114907ae1cd19707c0e7be",
      "66c5d0a9f2ed4549abba3c582bff1061",
      "251cc3eb9fab4cecb9e07d297a2a59ce",
      "02204e2b14e34be4a06142aecc27e0d1",
      "03460fd771d546ce8eede45ace1bba82",
      "ecee856e1d314ccf988a4b59327846cd",
      "959cf622553143e0aab5ec5ff7c24a76",
      "595df0464dd94910bf09317478e4944b",
      "d6b56bf70d274d769419ee73a60208dc",
      "aff7fe2733554145bf9ea2d6abdbefaa",
      "e6e5170bded3427797ea353a54ff1fe1",
      "9d9d8810ee4043cbaba53f26782ec6de",
      "21b64d1a983240e1aa16f8bf6fd60663",
      "74aab77ee73a4489948d279f85a74fb4",
      "7646ebeb4ade4df1a061cb2d038ff271",
      "99e05b05b5e24cb28f499485194670c7",
      "f7e0ce2baba0437a88a7476728e95c42",
      "f62075e1a7f944e48164a9444ebc3db2",
      "6031179af3cc4c64959f23ad01deb96e",
      "3fcca1df79174d8697b2531e92c77062",
      "cc3e226ca7424491b0f55beb296036c0",
      "884c4580e1204e7ea6e0e8f21f880946",
      "b3815597991649caa4080a8d2e9e5f32",
      "464743e6c0524d59805003362233dbc5",
      "972fcaa12da04c12b9786684aee43f53",
      "fd117bfd6cb945f8a562221c52f025eb",
      "2274fc454e204badbbef3f23492f88a0"
     ]
    },
    "id": "EZUXIRb1ayue",
    "outputId": "730335c4-7400-452b-ddaa-998859c16406"
   },
   "outputs": [],
   "source": [
    "results = bertscore.compute(predictions=predictions, references=references, lang=\"en\")"
   ]
  },
  {
   "cell_type": "markdown",
   "metadata": {
    "id": "53Zm8lLC_1XV"
   },
   "source": [
    "Finally, we visualize the results:"
   ]
  },
  {
   "cell_type": "code",
   "execution_count": null,
   "metadata": {},
   "outputs": [
    {
     "data": {
      "image/png": "[encoded data removed]",
      "text/plain": [
       "<Figure size 800x500 with 1 Axes>"
      ]
     },
     "metadata": {},
     "output_type": "display_data"
    }
   ],
   "source": [
    "import matplotlib.pyplot as plt\n",
    "\n",
    "# calculate averages of each metric\n",
    "mean_precision = sum(results[\"precision\"]) / len(results[\"precision\"])\n",
    "mean_recall = sum(results[\"recall\"]) / len(results[\"recall\"])\n",
    "mean_f1 = sum(results[\"f1\"]) / len(results[\"f1\"])\n",
    "\n",
    "# create bar plot\n",
    "metrics = ['Precision', 'Recall', 'F1']\n",
    "scores = [mean_precision, mean_recall, mean_f1]\n",
    "plt.figure(figsize=(8, 5))\n",
    "bars = plt.bar(metrics, scores, color=['steelblue', 'darkorange', 'mediumseagreen'])\n",
    "\n",
    "# add tags\n",
    "for bar in bars:\n",
    "    height = bar.get_height()\n",
    "    plt.text(bar.get_x() + bar.get_width()/2.0, height + 0.01, f\"{height:.3f}\", ha='center', va='bottom')\n",
    "\n",
    "# plot\n",
    "plt.ylim(0, 1.05)\n",
    "plt.ylabel(\"Score\")\n",
    "plt.title(\"Average BERTScore Results\")\n",
    "plt.grid(axis='y', linestyle='--', alpha=0.6)\n",
    "\n",
    "plt.tight_layout()\n",
    "plt.show()"
   ]
  },
  {
   "cell_type": "markdown",
   "metadata": {
    "id": "PzMkns1H_1XW"
   },
   "source": [
    "We can interpret the results the following way:\n",
    "\n",
    "* **Precision** measures the degree of semantic similarity between the generated response and the actual response. A score of 0.864 means the model generally manages to convey messages of fairly similar tone and meaning to the actual responses from the dataset.\n",
    "\n",
    "* **Recall** measures the fraction of the information in the original message that the prediction conveys. A score of 0.844 means the model typically conveys the same information as the original sequence.\n",
    "\n",
    "* The **F1 Score** is an average of these two metrics, meant to show overall model performance, in which the model is also decent."
   ]
  },
  {
   "cell_type": "markdown",
   "metadata": {
    "id": "MJV2G0fa_1XW"
   },
   "source": [
    "--------------\n",
    "We could still explore a lot more aspects of this implementation, but I´m afraid this is all for now.\n",
    "\n",
    "Thank you for your attention! I hope this was useful or entertaining to read."
   ]
  }
 ],
 "metadata": {
  "accelerator": "GPU",
  "colab": {
   "gpuType": "T4",
   "provenance": []
  },
  "kernelspec": {
   "display_name": "base",
   "language": "python",
   "name": "python3"
  },
  "language_info": {
   "codemirror_mode": {
    "name": "ipython",
    "version": 3
   },
   "file_extension": ".py",
   "mimetype": "text/x-python",
   "name": "python",
   "nbconvert_exporter": "python",
   "pygments_lexer": "ipython3",
   "version": "3.12.4"
  }
 },
 "nbformat": 4,
 "nbformat_minor": 0
}
